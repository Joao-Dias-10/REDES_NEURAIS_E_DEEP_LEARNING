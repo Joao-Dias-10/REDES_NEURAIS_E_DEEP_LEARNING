{
 "cells": [
  {
   "cell_type": "markdown",
   "id": "de41a9d6",
   "metadata": {},
   "source": [
    "#Redes Neurais e Deep Learning\n",
    "Modelo preditivo para conversão de temperaturas usando TensorFlow"
   ]
  },
  {
   "cell_type": "markdown",
   "id": "de1992ac",
   "metadata": {},
   "source": [
    "## Objetivo\n",
    "Construir um modelo preditivo utilizando redes neurais com o TensorFlow em Python, para converter temperaturas de Celsius para Fahrenheit."
   ]
  },
  {
   "cell_type": "markdown",
   "id": "93dcb616",
   "metadata": {},
   "source": [
    "## Preparação do Ambiente\n",
    "Importação das bibliotecas necessárias e configuração inicial."
   ]
  },
  {
   "cell_type": "code",
   "execution_count": null,
   "id": "80a64b35",
   "metadata": {},
   "outputs": [],
   "source": [
    "import tensorflow as tf\n",
    "import numpy as np\n",
    "import matplotlib.pyplot as plt\n",
    "import pandas as pd"
   ]
  },
  {
   "cell_type": "markdown",
   "id": "c1eba156",
   "metadata": {},
   "source": [
    "## Dados de Treinamento\n",
    "Utilizaremos os dados fornecidos para treinar o modelo."
   ]
  },
  {
   "cell_type": "code",
   "execution_count": null,
   "id": "d42d62ea",
   "metadata": {},
   "outputs": [],
   "source": [
    "celsius = np.array([-40, -10, 0, 8, 15, 22, 38], dtype=float)\n",
    "fahrenheit = np.array([-40, 14, 32, 46.4, 59, 71.6, 100], dtype=float)"
   ]
  },
  {
   "cell_type": "markdown",
   "id": "471b1faa",
   "metadata": {},
   "source": [
    "## Construção do Modelo\n",
    "Vamos criar um modelo simples com uma camada densa."
   ]
  },
  {
   "cell_type": "code",
   "execution_count": null,
   "id": "8ec785bd",
   "metadata": {},
   "outputs": [],
   "source": [
    "model = tf.keras.Sequential([\n",
    "    tf.keras.layers.Dense(units=1, input_shape=[1])\n",
    "])\n",
    "\n",
    "model.compile(optimizer='adam', loss='mean_squared_error')"
   ]
  },
  {
   "cell_type": "markdown",
   "id": "75ed5cbf",
   "metadata": {},
   "source": [
    "## Treinamento do Modelo\n",
    "Treinamos o modelo com os dados de entrada (Celsius) e saída (Fahrenheit)."
   ]
  },
  {
   "cell_type": "code",
   "execution_count": null,
   "id": "539f1b8f",
   "metadata": {},
   "outputs": [],
   "source": [
    "history = model.fit(celsius, fahrenheit, epochs=500, verbose=0)"
   ]
  },
  {
   "cell_type": "markdown",
   "id": "8e12f362",
   "metadata": {},
   "source": [
    "## Estatísticas de Treinamento\n",
    "Visualização do histórico de treinamento: perda (loss) por época."
   ]
  },
  {
   "cell_type": "code",
   "execution_count": null,
   "id": "28d16ce0",
   "metadata": {},
   "outputs": [],
   "source": [
    "plt.plot(history.history['loss'])\n",
    "plt.xlabel('Epoch')\n",
    "plt.ylabel('Loss')\n",
    "plt.title('Perda durante o treinamento')\n",
    "plt.grid(True)\n",
    "plt.show()"
   ]
  },
  {
   "cell_type": "markdown",
   "id": "4b982f31",
   "metadata": {},
   "source": [
    "## Testando o Modelo com Novos Valores\n",
    "Vamos prever novos valores de Fahrenheit a partir de valores de Celsius e comparar com os valores reais."
   ]
  },
  {
   "cell_type": "code",
   "execution_count": null,
   "id": "aab7af10",
   "metadata": {},
   "outputs": [],
   "source": [
    "test_celsius = np.array([-20, -5, 5, 10, 20, 25, 30, 35, 40, 50], dtype=float)\n",
    "predicted_fahrenheit = model.predict(test_celsius).flatten()\n",
    "real_fahrenheit = test_celsius * 1.8 + 32\n",
    "\n",
    "df = pd.DataFrame({\n",
    "    'Celsius': test_celsius,\n",
    "    'Fahrenheit Real': real_fahrenheit,\n",
    "    'Fahrenheit Predito': predicted_fahrenheit\n",
    "})\n",
    "df"
   ]
  },
  {
   "cell_type": "markdown",
   "id": "a120ded8",
   "metadata": {},
   "source": [
    "## Conclusão\n",
    "O modelo conseguiu aprender a relação de conversão entre Celsius e Fahrenheit com boa precisão, utilizando um único neurônio em uma camada densa."
   ]
  }
 ],
 "metadata": {},
 "nbformat": 4,
 "nbformat_minor": 5
}
